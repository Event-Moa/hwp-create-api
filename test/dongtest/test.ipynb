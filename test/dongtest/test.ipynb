{
 "cells": [
  {
   "cell_type": "code",
   "execution_count": 3,
   "outputs": [
    {
     "name": "stdout",
     "output_type": "stream",
     "text": [
      "{\n",
      "    \"data\": [\n",
      "        {\n",
      "            \"eventName\": \"event1\",\n",
      "            \"date\": \"24.11.10 (월)\",\n",
      "            \"time\": \"09:00\",\n",
      "            \"place\": \"유성구 가정북로 72\",\n",
      "            \"personnel\": 1,\n",
      "            \"department\": \"세정과\",\n",
      "            \"note\": null\n",
      "        },\n",
      "        {\n",
      "            \"eventName\": \"event2\",\n",
      "            \"date\": \"24.11.11 (화)\",\n",
      "            \"time\": \"09:00\",\n",
      "            \"place\": \"유성구 가정북로 72\",\n",
      "            \"personnel\": 2,\n",
      "            \"department\": \"세정과\",\n",
      "            \"note\": null\n",
      "        },\n",
      "        {\n",
      "            \"eventName\": \"event3\",\n",
      "            \"date\": \"24.11.12 (화)\",\n",
      "            \"time\": \"09:00\",\n",
      "            \"place\": \"place 3\",\n",
      "            \"personnel\": 50,\n",
      "            \"department\": \"dpt3\",\n",
      "            \"note\": null\n",
      "        },\n",
      "        {\n",
      "            \"eventName\": \"event4\",\n",
      "            \"date\": \"24.11.13 (수)\",\n",
      "            \"time\": \"09:00\",\n",
      "            \"place\": \"유성구 가정북로 72\",\n",
      "            \"personnel\": 1,\n",
      "            \"department\": \"세정과\",\n",
      "            \"note\": null\n",
      "        }\n",
      "    ]\n",
      "}\n",
      "<class 'dict'>\n"
     ]
    },
    {
     "data": {
      "text/plain": "  eventName          date   time        place  personnel department  note\n0    event1  24.11.10 (월)  09:00  유성구 가정북로 72          1        세정과  None\n1    event2  24.11.11 (화)  09:00  유성구 가정북로 72          2        세정과  None\n2    event3  24.11.12 (화)  09:00      place 3         50       dpt3  None\n3    event4  24.11.13 (수)  09:00  유성구 가정북로 72          1        세정과  None",
      "text/html": "<div>\n<style scoped>\n    .dataframe tbody tr th:only-of-type {\n        vertical-align: middle;\n    }\n\n    .dataframe tbody tr th {\n        vertical-align: top;\n    }\n\n    .dataframe thead th {\n        text-align: right;\n    }\n</style>\n<table border=\"1\" class=\"dataframe\">\n  <thead>\n    <tr style=\"text-align: right;\">\n      <th></th>\n      <th>eventName</th>\n      <th>date</th>\n      <th>time</th>\n      <th>place</th>\n      <th>personnel</th>\n      <th>department</th>\n      <th>note</th>\n    </tr>\n  </thead>\n  <tbody>\n    <tr>\n      <th>0</th>\n      <td>event1</td>\n      <td>24.11.10 (월)</td>\n      <td>09:00</td>\n      <td>유성구 가정북로 72</td>\n      <td>1</td>\n      <td>세정과</td>\n      <td>None</td>\n    </tr>\n    <tr>\n      <th>1</th>\n      <td>event2</td>\n      <td>24.11.11 (화)</td>\n      <td>09:00</td>\n      <td>유성구 가정북로 72</td>\n      <td>2</td>\n      <td>세정과</td>\n      <td>None</td>\n    </tr>\n    <tr>\n      <th>2</th>\n      <td>event3</td>\n      <td>24.11.12 (화)</td>\n      <td>09:00</td>\n      <td>place 3</td>\n      <td>50</td>\n      <td>dpt3</td>\n      <td>None</td>\n    </tr>\n    <tr>\n      <th>3</th>\n      <td>event4</td>\n      <td>24.11.13 (수)</td>\n      <td>09:00</td>\n      <td>유성구 가정북로 72</td>\n      <td>1</td>\n      <td>세정과</td>\n      <td>None</td>\n    </tr>\n  </tbody>\n</table>\n</div>"
     },
     "execution_count": 3,
     "metadata": {},
     "output_type": "execute_result"
    }
   ],
   "source": [
    "with open(r'../package.json', 'r',encoding='utf-8') as f:\n",
    "\n",
    "    json_data = json.load(f)\n",
    "\n",
    "print(json.dumps(json_data, ensure_ascii=False, indent=4))\n",
    "#dumps 함수 json을 문자열로 변환해서 출력\n",
    "#ensure_ascii = False -> 한글 안깨지게\n",
    "\n",
    "\n",
    "\n",
    "\n",
    "\n",
    "\n",
    "print(type(json_data))\n",
    "# JSON을 읽어들이면 dict형태로 바뀐다.\n",
    "\n",
    "\n",
    "df = pd.DataFrame(json_data['data'])\n",
    "\n",
    "df\n"
   ],
   "metadata": {
    "collapsed": false,
    "ExecuteTime": {
     "end_time": "2024-11-14T00:59:29.267882200Z",
     "start_time": "2024-11-14T00:59:29.248084Z"
    }
   },
   "id": "8a62063371f85bc7"
  },
  {
   "cell_type": "markdown",
   "source": [],
   "metadata": {
    "collapsed": false
   },
   "id": "c327b0fbd52666d4"
  },
  {
   "cell_type": "code",
   "execution_count": 66,
   "outputs": [
    {
     "data": {
      "text/plain": "True"
     },
     "execution_count": 66,
     "metadata": {},
     "output_type": "execute_result"
    }
   ],
   "source": [
    "from pyhwpx import Hwp\n",
    "hwp = Hwp()\n",
    "hwp.Open(r\"../../dongrealtemplate2.hwp\")"
   ],
   "metadata": {
    "collapsed": false,
    "ExecuteTime": {
     "end_time": "2024-11-20T08:55:45.586606400Z",
     "start_time": "2024-11-20T08:55:45.477315700Z"
    }
   },
   "id": "cdfbe7d4c4396453"
  },
  {
   "cell_type": "code",
   "execution_count": 69,
   "outputs": [
    {
     "name": "stdout",
     "output_type": "stream",
     "text": [
      "(11, 0, 8)\n"
     ]
    }
   ],
   "source": [
    "print(hwp.get_pos())\n"
   ],
   "metadata": {
    "collapsed": false,
    "ExecuteTime": {
     "end_time": "2024-11-20T08:57:08.387686100Z",
     "start_time": "2024-11-20T08:57:08.366223600Z"
    }
   },
   "id": "866186ef0c69ed21"
  },
  {
   "cell_type": "code",
   "execution_count": 65,
   "outputs": [],
   "source": [
    "hwp.get_pos()\n",
    "def date_field_initial():\n",
    "    for i in range(7):\n",
    "        hwp.set_pos(11 + i * 14, 0, 0)\n",
    "        hwp.set_cur_field_name(\"date\")\n",
    "        \n",
    "date_field_initial()"
   ],
   "metadata": {
    "collapsed": false,
    "ExecuteTime": {
     "end_time": "2024-11-20T07:22:35.626492Z",
     "start_time": "2024-11-20T07:22:35.574598800Z"
    }
   },
   "id": "43915e32bc59d7ef"
  },
  {
   "cell_type": "code",
   "execution_count": 64,
   "outputs": [
    {
     "data": {
      "text/plain": "True"
     },
     "execution_count": 64,
     "metadata": {},
     "output_type": "execute_result"
    }
   ],
   "source": [
    "hwp.set_pos(12, 0, 0)\n",
    "hwp.TableCellBlock()\n",
    "hwp.TableCellBlockExtend()\n",
    "hwp.TableColPageDown()\n",
    "hwp.set_cur_field_name(\"time\")"
   ],
   "metadata": {
    "collapsed": false,
    "ExecuteTime": {
     "end_time": "2024-11-20T07:21:58.001343100Z",
     "start_time": "2024-11-20T07:21:57.855305800Z"
    }
   },
   "id": "54d8346517071874"
  },
  {
   "cell_type": "code",
   "execution_count": 26,
   "outputs": [
    {
     "data": {
      "text/plain": "(0, 0, 16)"
     },
     "execution_count": 26,
     "metadata": {},
     "output_type": "execute_result"
    }
   ],
   "source": [
    "hwp.MoveDocBegin()\n",
    "hwp.set_pos(0,1,0)  "
   ],
   "metadata": {
    "collapsed": false,
    "ExecuteTime": {
     "end_time": "2024-11-20T04:50:45.969985600Z",
     "start_time": "2024-11-20T04:50:45.958508200Z"
    }
   },
   "id": "51820a8ab4fd0e41"
  },
  {
   "cell_type": "code",
   "execution_count": 35,
   "outputs": [
    {
     "ename": "KeyboardInterrupt",
     "evalue": "",
     "output_type": "error",
     "traceback": [
      "\u001B[1;31m---------------------------------------------------------------------------\u001B[0m",
      "\u001B[1;31mKeyboardInterrupt\u001B[0m                         Traceback (most recent call last)",
      "Cell \u001B[1;32mIn[35], line 5\u001B[0m\n\u001B[0;32m      3\u001B[0m \u001B[38;5;28;01mwhile\u001B[39;00m (hwp\u001B[38;5;241m.\u001B[39mMoveSelNextWord()\u001B[38;5;241m!=\u001B[39m\u001B[38;5;124m\"\u001B[39m\u001B[38;5;124m】\u001B[39m\u001B[38;5;124m\"\u001B[39m): \u001B[38;5;66;03m#]가 아니면 오른쪽으로 sel이동\u001B[39;00m\n\u001B[0;32m      4\u001B[0m     hwp\u001B[38;5;241m.\u001B[39mMoveSelRight()\n\u001B[1;32m----> 5\u001B[0m     text \u001B[38;5;241m=\u001B[39m \u001B[43mhwp\u001B[49m\u001B[38;5;241;43m.\u001B[39;49m\u001B[43mget_selected_text\u001B[49m\u001B[43m(\u001B[49m\u001B[43m)\u001B[49m  \u001B[38;5;66;03m# 문자열을 가져와서\u001B[39;00m\n",
      "File \u001B[1;32mC:\\pythonProject1\\venv\\Lib\\site-packages\\pyhwpx.py:3512\u001B[0m, in \u001B[0;36mHwp.get_selected_text\u001B[1;34m(self, as_)\u001B[0m\n\u001B[0;32m   3510\u001B[0m state \u001B[38;5;241m=\u001B[39m \u001B[38;5;241m2\u001B[39m\n\u001B[0;32m   3511\u001B[0m \u001B[38;5;28;01mwhile\u001B[39;00m state \u001B[38;5;129;01mnot\u001B[39;00m \u001B[38;5;129;01min\u001B[39;00m [\u001B[38;5;241m0\u001B[39m, \u001B[38;5;241m1\u001B[39m]:\n\u001B[1;32m-> 3512\u001B[0m     state, text \u001B[38;5;241m=\u001B[39m \u001B[38;5;28;43mself\u001B[39;49m\u001B[38;5;241;43m.\u001B[39;49m\u001B[43mhwp\u001B[49m\u001B[38;5;241;43m.\u001B[39;49m\u001B[43mGetText\u001B[49m\u001B[43m(\u001B[49m\u001B[43m)\u001B[49m\n\u001B[0;32m   3513\u001B[0m     \u001B[38;5;28;01mif\u001B[39;00m as_ \u001B[38;5;241m==\u001B[39m \u001B[38;5;124m\"\u001B[39m\u001B[38;5;124mlist\u001B[39m\u001B[38;5;124m\"\u001B[39m:\n\u001B[0;32m   3514\u001B[0m         result\u001B[38;5;241m.\u001B[39mappend(text)\n",
      "File \u001B[1;32m~\\AppData\\Local\\Temp\\gen_py\\3.12\\7D2B6F3C-1D95-4E0C-BF5A-5EE564186FBCx0x1x0.py:9782\u001B[0m, in \u001B[0;36mIHwpObject.GetText\u001B[1;34m(self, Text)\u001B[0m\n\u001B[0;32m   9780\u001B[0m \u001B[38;5;28;01mdef\u001B[39;00m \u001B[38;5;21mGetText\u001B[39m(\u001B[38;5;28mself\u001B[39m, Text\u001B[38;5;241m=\u001B[39mpythoncom\u001B[38;5;241m.\u001B[39mMissing):\n\u001B[0;32m   9781\u001B[0m \t\u001B[38;5;124m'\u001B[39m\u001B[38;5;124mmethod GetText\u001B[39m\u001B[38;5;124m'\u001B[39m\n\u001B[1;32m-> 9782\u001B[0m \t\u001B[38;5;28;01mreturn\u001B[39;00m \u001B[38;5;28;43mself\u001B[39;49m\u001B[38;5;241;43m.\u001B[39;49m\u001B[43m_ApplyTypes_\u001B[49m\u001B[43m(\u001B[49m\u001B[38;5;241;43m10019\u001B[39;49m\u001B[43m,\u001B[49m\u001B[43m \u001B[49m\u001B[38;5;241;43m1\u001B[39;49m\u001B[43m,\u001B[49m\u001B[43m \u001B[49m\u001B[43m(\u001B[49m\u001B[38;5;241;43m3\u001B[39;49m\u001B[43m,\u001B[49m\u001B[43m \u001B[49m\u001B[38;5;241;43m0\u001B[39;49m\u001B[43m)\u001B[49m\u001B[43m,\u001B[49m\u001B[43m \u001B[49m\u001B[43m(\u001B[49m\u001B[43m(\u001B[49m\u001B[38;5;241;43m16392\u001B[39;49m\u001B[43m,\u001B[49m\u001B[43m \u001B[49m\u001B[38;5;241;43m2\u001B[39;49m\u001B[43m)\u001B[49m\u001B[43m,\u001B[49m\u001B[43m)\u001B[49m\u001B[43m,\u001B[49m\u001B[43m \u001B[49m\u001B[38;5;124;43m'\u001B[39;49m\u001B[38;5;124;43mGetText\u001B[39;49m\u001B[38;5;124;43m'\u001B[39;49m\u001B[43m,\u001B[49m\u001B[43m \u001B[49m\u001B[38;5;28;43;01mNone\u001B[39;49;00m\u001B[43m,\u001B[49m\u001B[43mText\u001B[49m\n\u001B[0;32m   9783\u001B[0m \u001B[43m\t\t\u001B[49m\u001B[43m)\u001B[49m\n",
      "File \u001B[1;32mC:\\pythonProject1\\venv\\Lib\\site-packages\\win32com\\client\\__init__.py:549\u001B[0m, in \u001B[0;36mDispatchBaseClass._ApplyTypes_\u001B[1;34m(self, dispid, wFlags, retType, argTypes, user, resultCLSID, *args)\u001B[0m\n\u001B[0;32m    547\u001B[0m \u001B[38;5;28;01mdef\u001B[39;00m \u001B[38;5;21m_ApplyTypes_\u001B[39m(\u001B[38;5;28mself\u001B[39m, dispid, wFlags, retType, argTypes, user, resultCLSID, \u001B[38;5;241m*\u001B[39margs):\n\u001B[0;32m    548\u001B[0m     \u001B[38;5;28;01mreturn\u001B[39;00m \u001B[38;5;28mself\u001B[39m\u001B[38;5;241m.\u001B[39m_get_good_object_(\n\u001B[1;32m--> 549\u001B[0m         \u001B[38;5;28;43mself\u001B[39;49m\u001B[38;5;241;43m.\u001B[39;49m\u001B[43m_oleobj_\u001B[49m\u001B[38;5;241;43m.\u001B[39;49m\u001B[43mInvokeTypes\u001B[49m\u001B[43m(\u001B[49m\u001B[43mdispid\u001B[49m\u001B[43m,\u001B[49m\u001B[43m \u001B[49m\u001B[38;5;241;43m0\u001B[39;49m\u001B[43m,\u001B[49m\u001B[43m \u001B[49m\u001B[43mwFlags\u001B[49m\u001B[43m,\u001B[49m\u001B[43m \u001B[49m\u001B[43mretType\u001B[49m\u001B[43m,\u001B[49m\u001B[43m \u001B[49m\u001B[43margTypes\u001B[49m\u001B[43m,\u001B[49m\u001B[43m \u001B[49m\u001B[38;5;241;43m*\u001B[39;49m\u001B[43margs\u001B[49m\u001B[43m)\u001B[49m,\n\u001B[0;32m    550\u001B[0m         user,\n\u001B[0;32m    551\u001B[0m         resultCLSID,\n\u001B[0;32m    552\u001B[0m     )\n",
      "\u001B[1;31mKeyboardInterrupt\u001B[0m: "
     ]
    }
   ],
   "source": [
    "hwp.MoveDocBegin()  # 문서 시작점으로 이동한 후,\n",
    "\n",
    "while (hwp.MoveSelNextWord()!=\"】\"): #]가 아니면 오른쪽으로 sel이동\n",
    "    hwp.MoveSelRight()\n",
    "    text = hwp.get_selected_text()  # 문자열을 가져와서\n"
   ],
   "metadata": {
    "collapsed": false,
    "ExecuteTime": {
     "end_time": "2024-11-20T05:27:24.365858200Z",
     "start_time": "2024-11-20T05:27:10.336186500Z"
    }
   },
   "id": "31ca0696285f2d87"
  },
  {
   "cell_type": "code",
   "execution_count": 32,
   "outputs": [
    {
     "name": "stdout",
     "output_type": "stream",
     "text": [
      "(101, '')\n"
     ]
    }
   ],
   "source": [
    "print(hwp.GetText())"
   ],
   "metadata": {
    "collapsed": false,
    "ExecuteTime": {
     "end_time": "2024-11-20T05:11:57.751912900Z",
     "start_time": "2024-11-20T05:11:57.693081300Z"
    }
   },
   "id": "5bbcedac260a5917"
  },
  {
   "cell_type": "code",
   "execution_count": 50,
   "outputs": [
    {
     "name": "stdout",
     "output_type": "stream",
     "text": [
      "【\n",
      "【2\n",
      "【20\n",
      "【202\n",
      "【2024\n",
      "【2024.\n",
      "【2024. \n",
      "【2024. 9\n",
      "【2024. 9.\n",
      "【2024. 9. \n",
      "【2024. 9. 2\n",
      "【2024. 9. 23\n",
      "【2024. 9. 23.\n",
      "【2024. 9. 23. \n",
      "【2024. 9. 23. ~\n",
      "【2024. 9. 23. ~ \n",
      "【2024. 9. 23. ~ 9\n",
      "【2024. 9. 23. ~ 9.\n",
      "【2024. 9. 23. ~ 9. \n",
      "【2024. 9. 23. ~ 9. 2\n",
      "【2024. 9. 23. ~ 9. 29\n",
      "【2024. 9. 23. ~ 9. 29.\n",
      "【2024. 9. 23. ~ 9. 29.】\n"
     ]
    }
   ],
   "source": [
    "def change_period ():\n",
    "    hwp.set_pos(0,1,0)  \n",
    "    while hwp.MoveSelRight() :\n",
    "        text = hwp.get_selected_text()  # 파이썬으로 가져와서\n",
    "        print(text)\n",
    "        if '】' in text: break # 그냥 대괄호랑은 다름\n",
    "    \n",
    "    hwp.insert_text(\"123\")\n",
    "    \n",
    "change_period()"
   ],
   "metadata": {
    "collapsed": false,
    "ExecuteTime": {
     "end_time": "2024-11-20T05:37:47.665832600Z",
     "start_time": "2024-11-20T05:37:47.211840800Z"
    }
   },
   "id": "1c5a0e52c44f3fb4"
  },
  {
   "cell_type": "code",
   "execution_count": null,
   "outputs": [],
   "source": [],
   "metadata": {
    "collapsed": false
   },
   "id": "ebb352926bc01a7b"
  }
 ],
 "metadata": {
  "kernelspec": {
   "display_name": "Python 3",
   "language": "python",
   "name": "python3"
  },
  "language_info": {
   "codemirror_mode": {
    "name": "ipython",
    "version": 2
   },
   "file_extension": ".py",
   "mimetype": "text/x-python",
   "name": "python",
   "nbconvert_exporter": "python",
   "pygments_lexer": "ipython2",
   "version": "2.7.6"
  }
 },
 "nbformat": 4,
 "nbformat_minor": 5
}
