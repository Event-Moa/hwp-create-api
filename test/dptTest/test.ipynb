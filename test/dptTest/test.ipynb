{
 "cells": [
  {
   "cell_type": "code",
   "execution_count": 3,
   "outputs": [
    {
     "name": "stdout",
     "output_type": "stream",
     "text": [
      "{\n",
      "    \"data\": [\n",
      "        {\n",
      "            \"eventName\": \"event1\",\n",
      "            \"date\": \"24.11.10 (월)\",\n",
      "            \"time\": \"09:00\",\n",
      "            \"place\": \"유성구 가정북로 72\",\n",
      "            \"personnel\": 1,\n",
      "            \"department\": \"세정과\",\n",
      "            \"note\": null\n",
      "        },\n",
      "        {\n",
      "            \"eventName\": \"event2\",\n",
      "            \"date\": \"24.11.11 (화)\",\n",
      "            \"time\": \"09:00\",\n",
      "            \"place\": \"유성구 가정북로 72\",\n",
      "            \"personnel\": 2,\n",
      "            \"department\": \"세정과\",\n",
      "            \"note\": null\n",
      "        },\n",
      "        {\n",
      "            \"eventName\": \"event3\",\n",
      "            \"date\": \"24.11.12 (화)\",\n",
      "            \"time\": \"09:00\",\n",
      "            \"place\": \"place 3\",\n",
      "            \"personnel\": 50,\n",
      "            \"department\": \"dpt3\",\n",
      "            \"note\": null\n",
      "        },\n",
      "        {\n",
      "            \"eventName\": \"event4\",\n",
      "            \"date\": \"24.11.13 (수)\",\n",
      "            \"time\": \"09:00\",\n",
      "            \"place\": \"유성구 가정북로 72\",\n",
      "            \"personnel\": 1,\n",
      "            \"department\": \"세정과\",\n",
      "            \"note\": null\n",
      "        }\n",
      "    ]\n",
      "}\n",
      "<class 'dict'>\n"
     ]
    },
    {
     "data": {
      "text/plain": "  eventName          date   time        place  personnel department  note\n0    event1  24.11.10 (월)  09:00  유성구 가정북로 72          1        세정과  None\n1    event2  24.11.11 (화)  09:00  유성구 가정북로 72          2        세정과  None\n2    event3  24.11.12 (화)  09:00      place 3         50       dpt3  None\n3    event4  24.11.13 (수)  09:00  유성구 가정북로 72          1        세정과  None",
      "text/html": "<div>\n<style scoped>\n    .dataframe tbody tr th:only-of-type {\n        vertical-align: middle;\n    }\n\n    .dataframe tbody tr th {\n        vertical-align: top;\n    }\n\n    .dataframe thead th {\n        text-align: right;\n    }\n</style>\n<table border=\"1\" class=\"dataframe\">\n  <thead>\n    <tr style=\"text-align: right;\">\n      <th></th>\n      <th>eventName</th>\n      <th>date</th>\n      <th>time</th>\n      <th>place</th>\n      <th>personnel</th>\n      <th>department</th>\n      <th>note</th>\n    </tr>\n  </thead>\n  <tbody>\n    <tr>\n      <th>0</th>\n      <td>event1</td>\n      <td>24.11.10 (월)</td>\n      <td>09:00</td>\n      <td>유성구 가정북로 72</td>\n      <td>1</td>\n      <td>세정과</td>\n      <td>None</td>\n    </tr>\n    <tr>\n      <th>1</th>\n      <td>event2</td>\n      <td>24.11.11 (화)</td>\n      <td>09:00</td>\n      <td>유성구 가정북로 72</td>\n      <td>2</td>\n      <td>세정과</td>\n      <td>None</td>\n    </tr>\n    <tr>\n      <th>2</th>\n      <td>event3</td>\n      <td>24.11.12 (화)</td>\n      <td>09:00</td>\n      <td>place 3</td>\n      <td>50</td>\n      <td>dpt3</td>\n      <td>None</td>\n    </tr>\n    <tr>\n      <th>3</th>\n      <td>event4</td>\n      <td>24.11.13 (수)</td>\n      <td>09:00</td>\n      <td>유성구 가정북로 72</td>\n      <td>1</td>\n      <td>세정과</td>\n      <td>None</td>\n    </tr>\n  </tbody>\n</table>\n</div>"
     },
     "execution_count": 3,
     "metadata": {},
     "output_type": "execute_result"
    }
   ],
   "source": [
    "import pandas as pd\n",
    "import json\n",
    "\n",
    "with open(r'../package.json', 'r',encoding='utf-8') as f:\n",
    "\n",
    "    json_data = json.load(f)\n",
    "\n",
    "print(json.dumps(json_data, ensure_ascii=False, indent=4))\n",
    "#dumps 함수 json을 문자열로 변환해서 출력\n",
    "#ensure_ascii = False -> 한글 안깨지게\n",
    "\n",
    "\n",
    "\n",
    "\n",
    "\n",
    "\n",
    "print(type(json_data))\n",
    "# JSON을 읽어들이면 dict형태로 바뀐다.\n",
    "\n",
    "\n",
    "df = pd.DataFrame(json_data['data'])\n",
    "\n",
    "df\n"
   ],
   "metadata": {
    "collapsed": false,
    "ExecuteTime": {
     "end_time": "2024-11-14T00:59:29.267882200Z",
     "start_time": "2024-11-14T00:59:29.248084Z"
    }
   },
   "id": "8a62063371f85bc7"
  },
  {
   "cell_type": "code",
   "execution_count": 12,
   "outputs": [
    {
     "data": {
      "text/plain": "True"
     },
     "execution_count": 12,
     "metadata": {},
     "output_type": "execute_result"
    }
   ],
   "source": [
    "from pyhwpx import Hwp\n",
    "hwp = Hwp()\n",
    "hwp.Open(r\"../../templateEx.hwp\")\n",
    "\n"
   ],
   "metadata": {
    "collapsed": false,
    "ExecuteTime": {
     "end_time": "2024-11-20T08:29:06.247663800Z",
     "start_time": "2024-11-20T08:29:03.207559Z"
    }
   },
   "id": "cdfbe7d4c4396453"
  },
  {
   "cell_type": "code",
   "execution_count": 13,
   "outputs": [
    {
     "data": {
      "text/plain": "(15, 0, 0)"
     },
     "execution_count": 13,
     "metadata": {},
     "output_type": "execute_result"
    }
   ],
   "source": [
    "hwp.get_pos()"
   ],
   "metadata": {
    "collapsed": false,
    "ExecuteTime": {
     "end_time": "2024-11-20T08:29:12.452675400Z",
     "start_time": "2024-11-20T08:29:12.422803700Z"
    }
   },
   "id": "795899b0ecb3ad78"
  },
  {
   "cell_type": "code",
   "execution_count": 15,
   "outputs": [
    {
     "data": {
      "text/plain": "(28, 0, 0)"
     },
     "execution_count": 15,
     "metadata": {},
     "output_type": "execute_result"
    }
   ],
   "source": [
    "hwp.get_pos()"
   ],
   "metadata": {
    "collapsed": false,
    "ExecuteTime": {
     "end_time": "2024-11-20T08:29:29.785333300Z",
     "start_time": "2024-11-20T08:29:29.769166900Z"
    }
   },
   "id": "45bbbe9ea3ca51b"
  },
  {
   "cell_type": "code",
   "execution_count": 14,
   "outputs": [
    {
     "data": {
      "text/plain": "(14, 0, 0)"
     },
     "execution_count": 14,
     "metadata": {},
     "output_type": "execute_result"
    }
   ],
   "source": [
    "hwp.get_pos()"
   ],
   "metadata": {
    "collapsed": false,
    "ExecuteTime": {
     "end_time": "2024-11-20T08:29:16.257744600Z",
     "start_time": "2024-11-20T08:29:16.241143100Z"
    }
   },
   "id": "d3ccb6f2ae0b8f95"
  },
  {
   "cell_type": "code",
   "execution_count": 5,
   "outputs": [],
   "source": [
    "def table_clear():\n",
    "    hwp.set_pos(14, 0, 0)\n",
    "    hwp.TableCellBlock()\n",
    "    hwp.TableCellBlockExtend()\n",
    "    hwp.TableColEnd()\n",
    "    hwp.TableColPageDown()\n",
    "    hwp.set_cur_field_name(\" \")"
   ],
   "metadata": {
    "collapsed": false,
    "ExecuteTime": {
     "end_time": "2024-11-20T07:42:23.547407600Z",
     "start_time": "2024-11-20T07:42:23.502864600Z"
    }
   },
   "id": "57abeefa167c1846"
  },
  {
   "cell_type": "code",
   "execution_count": null,
   "outputs": [],
   "source": [],
   "metadata": {
    "collapsed": false
   },
   "id": "757cf40952a859cd"
  },
  {
   "cell_type": "code",
   "execution_count": 6,
   "outputs": [],
   "source": [
    "table_clear()"
   ],
   "metadata": {
    "collapsed": false,
    "ExecuteTime": {
     "end_time": "2024-11-20T07:42:27.633455Z",
     "start_time": "2024-11-20T07:42:27.436795Z"
    }
   },
   "id": "b88639be740e4761"
  },
  {
   "cell_type": "code",
   "execution_count": null,
   "outputs": [],
   "source": [],
   "metadata": {
    "collapsed": false
   },
   "id": "8cc112a4bf2642fc"
  }
 ],
 "metadata": {
  "kernelspec": {
   "display_name": "Python 3",
   "language": "python",
   "name": "python3"
  },
  "language_info": {
   "codemirror_mode": {
    "name": "ipython",
    "version": 2
   },
   "file_extension": ".py",
   "mimetype": "text/x-python",
   "name": "python",
   "nbconvert_exporter": "python",
   "pygments_lexer": "ipython2",
   "version": "2.7.6"
  }
 },
 "nbformat": 4,
 "nbformat_minor": 5
}
